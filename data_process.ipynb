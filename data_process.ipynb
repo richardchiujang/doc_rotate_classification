{
 "cells": [
  {
   "cell_type": "code",
   "execution_count": 1,
   "id": "824ce6ea",
   "metadata": {},
   "outputs": [],
   "source": [
    "import glob\n",
    "import os, shutil, sys, time, tqdm\n",
    "from PIL import Image\n",
    "\n",
    "from sklearn.model_selection import train_test_split\n",
    "\n",
    "from torchvision import transforms\n",
    "from torchvision.datasets import ImageFolder\n",
    "from torch.utils.data import DataLoader\n",
    "import torchvision.transforms.functional as TF"
   ]
  },
  {
   "cell_type": "code",
   "execution_count": 2,
   "id": "283e66bb",
   "metadata": {},
   "outputs": [],
   "source": [
    "### 準備資料夾路徑\n",
    "\n",
    "dirs = ['train', 'valid', 'test', 'source']  # source for temp process\n",
    "classes = ['0', '1', '2', '3', 'pp']   # pp for temp process\n",
    "for d in dirs:\n",
    "    try:\n",
    "        os.mkdir('datasets/{}'.format(d))\n",
    "    except:\n",
    "        pass\n",
    "        \n",
    "    for c in classes:\n",
    "        try:\n",
    "            os.mkdir('datasets/{}/{}'.format(d, c))\n",
    "        except:\n",
    "            pass\n",
    "\n",
    "# try:\n",
    "#     os.mkdir('datasets/source')\n",
    "# except:\n",
    "#     pass\n",
    "\n",
    "try:\n",
    "    os.mkdir('datasets/source - bak')\n",
    "except:\n",
    "    pass    "
   ]
  },
  {
   "cell_type": "code",
   "execution_count": 3,
   "id": "49aa4d60",
   "metadata": {},
   "outputs": [
    {
     "name": "stdout",
     "output_type": "stream",
     "text": [
      "6067\n"
     ]
    },
    {
     "name": "stderr",
     "output_type": "stream",
     "text": [
      "100%|█████████████████████████████████████████████████████████████████████████████| 6067/6067 [00:16<00:00, 360.37it/s]\n"
     ]
    }
   ],
   "source": [
    "## 把檔案從 to_ocr_print_to_img/output 各資料夾中全部複製到  'datasets/source - bak'\n",
    "\n",
    "data_source_path = '../to_ocr_print_to_img/output/*/*.jpg'\n",
    "target_path = 'datasets/source - bak'\n",
    "filelist = glob.glob(data_source_path)\n",
    "print(len(filelist))\n",
    "\n",
    "limit = None\n",
    "for f in tqdm.tqdm(filelist[:limit]):\n",
    "    shutil.copy(f, target_path)"
   ]
  },
  {
   "cell_type": "markdown",
   "id": "1a594d6a",
   "metadata": {},
   "source": [
    "# 手動移動檔案到 source/0,1,2,3 裡面\n",
    "# 全部用程式旋轉到正向，然後搬移到 pp 資料夾中，再做後續流程"
   ]
  },
  {
   "cell_type": "code",
   "execution_count": 4,
   "id": "3b23e74a",
   "metadata": {},
   "outputs": [
    {
     "name": "stderr",
     "output_type": "stream",
     "text": [
      "0it [00:00, ?it/s]\n",
      "100%|████████████████████████████████████████████████████████████████████████████████| 248/248 [00:04<00:00, 50.19it/s]\n",
      "100%|██████████████████████████████████████████████████████████████████████████████| 1267/1267 [00:26<00:00, 47.44it/s]\n",
      "100%|████████████████████████████████████████████████████████████████████████████| 4552/4552 [00:01<00:00, 3324.60it/s]\n",
      "0it [00:00, ?it/s]\n",
      "100%|██████████████████████████████████████████████████████████████████████████████| 248/248 [00:00<00:00, 2083.30it/s]\n",
      "100%|█████████████████████████████████████████████████████████████████████████████| 1267/1267 [00:01<00:00, 942.63it/s]\n"
     ]
    }
   ],
   "source": [
    "filelist = glob.glob('datasets/source/1/*.jpg')    # 原圖為向右，用程式左轉90度轉正\n",
    "for demo_file in tqdm.tqdm(filelist):\n",
    "    img = Image.open(demo_file)\n",
    "    img=img.rotate(90, expand = True)  # 90 left -90 right -180 upside-down\n",
    "    img.save(demo_file)\n",
    "    \n",
    "filelist = glob.glob('datasets/source/2/*.jpg')   # 原圖為向下，用程式轉180度轉正\n",
    "for demo_file in tqdm.tqdm(filelist):\n",
    "    img = Image.open(demo_file)\n",
    "    img=img.rotate(-180, expand = True)  # 90 left -90 right -180 upside-down\n",
    "    img.save(demo_file)\n",
    "    \n",
    "filelist = glob.glob('datasets/source/3/*.jpg')   # 原圖為向左，用程式右轉90度轉正\n",
    "for demo_file in tqdm.tqdm(filelist):\n",
    "    img = Image.open(demo_file)\n",
    "    img=img.rotate(-90, expand = True)  # 90 left -90 right -180 upside-down\n",
    "    img.save(demo_file)\n",
    "    \n",
    "for i in [0, 1, 2, 3]:\n",
    "    filelist = glob.glob('datasets/source/{}/*.jpg'.format(i))\n",
    "    for f in tqdm.tqdm(filelist):\n",
    "        shutil.move(f, 'datasets/source/pp')"
   ]
  },
  {
   "cell_type": "markdown",
   "id": "858bb0da",
   "metadata": {},
   "source": [
    "# 搬到 source/pp 之後，清除 image exif (exten info) 這要很久"
   ]
  },
  {
   "cell_type": "code",
   "execution_count": 5,
   "id": "d604beb6",
   "metadata": {},
   "outputs": [
    {
     "name": "stderr",
     "output_type": "stream",
     "text": [
      "100%|██████████████████████████████████████████████████████████████████████████████| 6067/6067 [15:25<00:00,  6.56it/s]\n"
     ]
    }
   ],
   "source": [
    "### 搬到 source/pp 之後，清除 image exif (exten info)\n",
    "\n",
    "def clearExifInfo(photoAddress):\n",
    "    image = Image.open(photoAddress)\n",
    "    data = list(image.getdata())\n",
    "#     print(len(data), image.mode, image.size, photoAddress)\n",
    "    image_without_exif = Image.new(image.mode, image.size)\n",
    "    image_without_exif.putdata(data)\n",
    "    image_without_exif.save(photoAddress)\n",
    "    return\n",
    " \n",
    "filelist = glob.glob('datasets/source/pp/*.jpg')\n",
    "for f in tqdm.tqdm(filelist[:]):\n",
    "    clearExifInfo(f)"
   ]
  },
  {
   "cell_type": "code",
   "execution_count": 6,
   "id": "4dd1d040",
   "metadata": {},
   "outputs": [
    {
     "name": "stdout",
     "output_type": "stream",
     "text": [
      "6067\n",
      "train 2911\n",
      "valid 1942\n",
      "test_list 1214\n"
     ]
    },
    {
     "name": "stderr",
     "output_type": "stream",
     "text": [
      "100%|█████████████████████████████████████████████████████████████████████████████| 2911/2911 [00:05<00:00, 492.64it/s]\n",
      "100%|█████████████████████████████████████████████████████████████████████████████| 1942/1942 [00:04<00:00, 450.05it/s]\n",
      "100%|█████████████████████████████████████████████████████████████████████████████| 1214/1214 [00:02<00:00, 446.51it/s]\n"
     ]
    }
   ],
   "source": [
    "### 搬到 train valid test / pp 裡面\n",
    "filelist = glob.glob('datasets/source/pp/*.jpg')\n",
    "print(len(filelist))\n",
    "train_list, test_list = train_test_split(filelist, test_size=0.2, shuffle=True)\n",
    "train, valid = train_test_split(train_list, test_size=0.4, shuffle=True)\n",
    "print('train', len(train))\n",
    "print('valid', len(valid))\n",
    "print('test_list', len(test_list))\n",
    "\n",
    "for f in tqdm.tqdm(train):   \n",
    "    shutil.copy(f, 'datasets/train/pp')\n",
    "    \n",
    "for f in tqdm.tqdm(valid):\n",
    "    shutil.copy(f, 'datasets/valid/pp')\n",
    "    \n",
    "for f in tqdm.tqdm(test_list):\n",
    "    shutil.copy(f, 'datasets/test/pp')"
   ]
  },
  {
   "cell_type": "markdown",
   "id": "e2385e40",
   "metadata": {},
   "source": [
    "# 裁切處理圖片 five corp + resize,  and resize only"
   ]
  },
  {
   "cell_type": "code",
   "execution_count": 7,
   "id": "d4ed4b96",
   "metadata": {},
   "outputs": [],
   "source": [
    "def img_preprocess(img, dirs, name):\n",
    "    '''\n",
    "    img : img path str\n",
    "    path : train, valid, test\n",
    "    name : img path str\n",
    "    '''\n",
    "    name = name.split('\\\\')[-1][:-4]\n",
    "    img = Image.open(img)\n",
    "    cs = TF.five_crop(img, 600)\n",
    "    for i, c in enumerate(cs):\n",
    "        c = TF.resize(c, 224)\n",
    "        c.save('datasets/{}/0/{}_{}.jpg'.format(dirs, name, i))\n",
    "    # img_resize_only\n",
    "    ss = TF.resize(img, (224,224))\n",
    "    ss.save('datasets/{}/0/{}_{}.jpg'.format(dirs, name, 's'))    \n",
    "    \n",
    "def img_resize_only(img, dirs, name): # for test\n",
    "    '''\n",
    "    img : img path str\n",
    "    path : train, valid, test\n",
    "    name : img path str\n",
    "    '''\n",
    "    name = name.split('\\\\')[-1][:-4]\n",
    "    img = Image.open(img)\n",
    "#     cs = TF.five_crop(img, 600)\n",
    "#     for i, c in enumerate(cs):\n",
    "#         c = TF.resize(c, 224)\n",
    "#         c.save('datasets/{}/0/{}_{}.jpg'.format(dirs, name, i))\n",
    "    ss = TF.resize(img, (224,224))\n",
    "    ss.save('datasets/{}/0/{}_{}.jpg'.format(dirs, name, 's'))        \n",
    "    "
   ]
  },
  {
   "cell_type": "code",
   "execution_count": 8,
   "id": "9d4f5b1a",
   "metadata": {},
   "outputs": [
    {
     "name": "stderr",
     "output_type": "stream",
     "text": [
      "100%|██████████████████████████████████████████████████████████████████████████████| 2911/2911 [01:24<00:00, 34.34it/s]\n",
      "100%|██████████████████████████████████████████████████████████████████████████████| 1942/1942 [00:58<00:00, 33.04it/s]\n",
      "100%|██████████████████████████████████████████████████████████████████████████████| 1214/1214 [00:13<00:00, 93.09it/s]"
     ]
    },
    {
     "name": "stdout",
     "output_type": "stream",
     "text": [
      "6067\n"
     ]
    },
    {
     "name": "stderr",
     "output_type": "stream",
     "text": [
      "\n"
     ]
    }
   ],
   "source": [
    "dirs = ['train', 'valid', 'test']\n",
    "count = 0\n",
    "for d in dirs:\n",
    "    filelist = glob.glob('datasets/' + d + '/pp/*.jpg')\n",
    "    if d == 'test':\n",
    "        for f in tqdm.tqdm(filelist):\n",
    "            img_resize_only(f, d, f)\n",
    "            count += 1    \n",
    "    else:\n",
    "        for f in tqdm.tqdm(filelist):\n",
    "            img_preprocess(f, d, f)\n",
    "            count += 1\n",
    "        \n",
    "print(count)\n"
   ]
  },
  {
   "cell_type": "markdown",
   "id": "fe075bb3",
   "metadata": {},
   "source": [
    "# 接著從0資料夾旋轉並複製到其他資料夾1,2,3 並刪除 pp 資料夾"
   ]
  },
  {
   "cell_type": "code",
   "execution_count": 9,
   "id": "3b9ce6c3",
   "metadata": {},
   "outputs": [],
   "source": [
    "dirs = ['train', 'valid', 'test']  # source for temp process"
   ]
  },
  {
   "cell_type": "code",
   "execution_count": 10,
   "id": "00481487",
   "metadata": {},
   "outputs": [
    {
     "name": "stderr",
     "output_type": "stream",
     "text": [
      "100%|███████████████████████████████████████████████████████████████████████████| 17466/17466 [00:48<00:00, 359.27it/s]\n",
      "100%|███████████████████████████████████████████████████████████████████████████| 17466/17466 [00:46<00:00, 373.05it/s]\n",
      "100%|███████████████████████████████████████████████████████████████████████████| 17466/17466 [00:48<00:00, 361.88it/s]\n"
     ]
    },
    {
     "name": "stdout",
     "output_type": "stream",
     "text": [
      "rmtree train pp\n"
     ]
    },
    {
     "name": "stderr",
     "output_type": "stream",
     "text": [
      "100%|███████████████████████████████████████████████████████████████████████████| 11652/11652 [00:31<00:00, 365.92it/s]\n",
      "100%|███████████████████████████████████████████████████████████████████████████| 11652/11652 [00:29<00:00, 394.54it/s]\n",
      "100%|███████████████████████████████████████████████████████████████████████████| 11652/11652 [00:27<00:00, 423.68it/s]\n"
     ]
    },
    {
     "name": "stdout",
     "output_type": "stream",
     "text": [
      "rmtree valid pp\n"
     ]
    },
    {
     "name": "stderr",
     "output_type": "stream",
     "text": [
      "100%|█████████████████████████████████████████████████████████████████████████████| 1214/1214 [00:02<00:00, 441.57it/s]\n",
      "100%|█████████████████████████████████████████████████████████████████████████████| 1214/1214 [00:02<00:00, 478.66it/s]\n",
      "100%|█████████████████████████████████████████████████████████████████████████████| 1214/1214 [00:02<00:00, 462.80it/s]\n"
     ]
    },
    {
     "name": "stdout",
     "output_type": "stream",
     "text": [
      "rmtree test pp\n"
     ]
    }
   ],
   "source": [
    "for d in dirs:\n",
    "    filelist = glob.glob('datasets/{}/0/*.jpg'.format(d))\n",
    "    for demo_file in tqdm.tqdm(filelist):\n",
    "        img = Image.open(demo_file)\n",
    "        img=img.rotate(-90, expand = True)  # -90 right\n",
    "        img.save('datasets/{}/1/{}'.format(d, demo_file.split('\\\\')[-1]))    \n",
    "    for demo_file in tqdm.tqdm(filelist):\n",
    "        img = Image.open(demo_file)\n",
    "        img=img.rotate(-180, expand = True)  # -180 upside-down\n",
    "        img.save('datasets/{}/2/{}'.format(d, demo_file.split('\\\\')[-1]))   \n",
    "    for demo_file in tqdm.tqdm(filelist):\n",
    "        img = Image.open(demo_file)\n",
    "        img=img.rotate(90, expand = True)  # 90 left\n",
    "        img.save('datasets/{}/3/{}'.format(d, demo_file.split('\\\\')[-1])) \n",
    "                 \n",
    "    shutil.rmtree('datasets/{}/pp'.format(d))\n",
    "    print('rmtree {} pp'.format(d))\n",
    "    \n",
    "    \n",
    "        \n",
    "        "
   ]
  },
  {
   "cell_type": "code",
   "execution_count": null,
   "id": "a045b5f6",
   "metadata": {},
   "outputs": [],
   "source": []
  },
  {
   "cell_type": "code",
   "execution_count": null,
   "id": "45de25f9",
   "metadata": {},
   "outputs": [],
   "source": []
  },
  {
   "cell_type": "code",
   "execution_count": null,
   "id": "f92c8654",
   "metadata": {},
   "outputs": [],
   "source": []
  },
  {
   "cell_type": "code",
   "execution_count": null,
   "id": "59e9e1b4",
   "metadata": {},
   "outputs": [],
   "source": []
  },
  {
   "cell_type": "code",
   "execution_count": null,
   "id": "a8372432",
   "metadata": {},
   "outputs": [],
   "source": [
    "# ### 搬到 source - bak 之後，清除 image exif (exten info)\n",
    "\n",
    "# def clearExifInfo(photoAddress):\n",
    "#     image = Image.open(photoAddress)\n",
    "#     data = list(image.getdata())\n",
    "# #     print(len(data), image.mode, image.size, photoAddress)\n",
    "#     image_without_exif = Image.new(image.mode, image.size)\n",
    "#     image_without_exif.putdata(data)\n",
    "#     image_without_exif.save(photoAddress)\n",
    "#     return\n",
    " \n",
    "# filelist = glob.glob('datasets/source - bak/*.*')\n",
    "# for f in tqdm.tqdm(filelist[:]):\n",
    "#     clearExifInfo(f)"
   ]
  },
  {
   "cell_type": "code",
   "execution_count": null,
   "id": "1ffe7d69",
   "metadata": {},
   "outputs": [],
   "source": [
    "# def correctimg(filelist, target_path):\n",
    "#     '''\n",
    "#     旋轉正向並移除標記\n",
    "#     '''\n",
    "#     for demo_file in tqdm.tqdm(filelist):\n",
    "#         img = Image.open(demo_file)\n",
    "#         try:\n",
    "#             '''\n",
    "#             对于手机、相机等设备拍摄的照片，由于手持方向的不同，拍出来的照片可能是旋转0°、90°、180°和270°。\n",
    "#             即使在电脑上利用软件将其转正，他们的exif信息中还是会保留方位信息。\n",
    "#             在用PIL读取这些图像时，读取的是原始数据，也就是说，即使电脑屏幕上显示是正常的照片，用PIL读进来后，\n",
    "#             也可能是旋转的图像，并且图片的size也可能与屏幕上的不一样。\n",
    "#             对于这种情况，可以利用PIL读取exif中的orientation信息，然后根据这个信息将图片转正后，再进行后续操作，具体如下。\n",
    "#             '''\n",
    "#             for orientation in ExifTags.TAGS.keys() : \n",
    "#                 if ExifTags.TAGS[orientation]=='Orientation' : break \n",
    "#             exif=dict(img._getexif().items())\n",
    "#             if   exif[orientation] == 3 : \n",
    "#                 img=img.rotate(180, expand = True)\n",
    "#             elif exif[orientation] == 6 : \n",
    "#                 img=img.rotate(270, expand = True)\n",
    "#             elif exif[orientation] == 8 : \n",
    "#                 img=img.rotate(90, expand = True)\n",
    "#         except:\n",
    "#             pass\n",
    "\n",
    "#         img.save(target_path + '/' + demo_file.split('\\\\')[-1])        \n",
    "#     print('correctimg() job done.')\n",
    "    \n",
    "# filelist = glob.glob('datasets/source/pp/*.jpg')\n",
    "# print(len(filelist))\n",
    "# target_path = r'datasets/source'\n",
    "# correctimg(filelist, target_path)"
   ]
  },
  {
   "cell_type": "code",
   "execution_count": null,
   "id": "d7f528c0",
   "metadata": {},
   "outputs": [],
   "source": []
  },
  {
   "cell_type": "code",
   "execution_count": null,
   "id": "b6e59f58",
   "metadata": {},
   "outputs": [],
   "source": []
  }
 ],
 "metadata": {
  "kernelspec": {
   "display_name": "Python 3 (ipykernel)",
   "language": "python",
   "name": "python3"
  },
  "language_info": {
   "codemirror_mode": {
    "name": "ipython",
    "version": 3
   },
   "file_extension": ".py",
   "mimetype": "text/x-python",
   "name": "python",
   "nbconvert_exporter": "python",
   "pygments_lexer": "ipython3",
   "version": "3.10.11"
  }
 },
 "nbformat": 4,
 "nbformat_minor": 5
}
